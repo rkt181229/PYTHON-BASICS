{
  "nbformat": 4,
  "nbformat_minor": 0,
  "metadata": {
    "colab": {
      "provenance": []
    },
    "kernelspec": {
      "name": "python3",
      "display_name": "Python 3"
    },
    "language_info": {
      "name": "python"
    }
  },
  "cells": [
    {
      "cell_type": "markdown",
      "source": [
        "1). What is Python, and why is it popular ?\n",
        "\n",
        "answer) - python is a programming language used to interect with computer and to develop\n",
        "high level programming and it’s syntex are very easy to understand and have huge predefined\n",
        "libraries that’s why its very famous.\n",
        "\n",
        "2).What is an interpreter in Python?\n",
        "\n",
        "answer) - - An interpretor is a program that reads and executes code , converting high-level\n",
        "Python code into machine language. It allows for immediate feedback and debugging, making\n",
        "Python easy to test and develop.\n",
        "\n",
        "3)What are pre-defined keywords in Python?\n",
        "\n",
        "Answer)- Pre-defined keywords in Python are special reserved words that have specific\n",
        "meanings and rules in the language. These cannot be used as variable names, function names,\n",
        "or identifiers because they are part of Python's syntax structure.\n",
        "\n",
        "4). Can keywords be used as variable names?\n",
        "\n",
        "Answer).No a keyword cant be use as variable\n",
        "\n",
        "5) What is mutability in Python?\n",
        "\n",
        "Answer)-Changing an objects value in python knowen as mutability.\n",
        "\n",
        "6) Why are lists mutable, but tuples are immutable?\n",
        "\n",
        "Answer)- Lists in Python are mutable because they are designed for dynamic operations like\n",
        "adding, removing, or modifying elements. Tuples, on the other hand, are immutable to ensure\n",
        "data integrity, faster access, which allows them to be used as keys in dictionaries. This\n",
        "immutability also prevents accidental changes to data.\n",
        "\n",
        "7) What is the difference between “==” and “is” operators in Python?\n",
        "\n",
        "Answer)- In Python, == checks if two variables have the same value, while is checks if two\n",
        "variables refer to the same object in memory.\n",
        "For example, a == b may return True even if a is b is False, especially with immutable types like\n",
        "strings or integers.\n",
        "\n",
        "8) What are logical operators in Python?\n",
        "\n",
        "answer) Logical operators in Python are used to combine conditional statements and return\n",
        "Boolean values (True or False). There are three main logical operators:\n",
        "“and” Returns True if both conditions are true.,,”or”  Returns True if at least one\n",
        "conditon is true.,,”not”  Reverses the result.\n",
        "\n",
        "9) What is type casting in Python?\n",
        "\n",
        "Ansswer)- Type casting in Python means converting one data type into another, such as\n",
        "changing a string to an integer or a float to a string. It helps in data processing, especially when\n",
        "combining or comparing different data types.\n",
        "\n",
        "10) What is the difference between implicit and explicit type casting?\n",
        "\n",
        "Answer)- Implicit type casting--- is automatically done by Python when it converts one data\n",
        "type to another without user intervention.Explicit type casting--- is when the programmer\n",
        "manually converts a data type using functions like int(), float(), or str().\n",
        "\n",
        "11) What is the purpose of conditional statements in Python?\n",
        "\n",
        "Answer)- The purpose of conditional statements in Python is to control the flow of a program\n",
        "based on certain conditions. They allow the program to make decisions and execute specific\n",
        "blocks of code when conditions are true. This is done using if, elif, and else statements to\n",
        "handle different scenarios and make the code dynamic and interactive.\n",
        "\n",
        "12) How does the elif statement work?\n",
        "\n",
        "Answer) The elif (else if) statement in Python is used to check multiple conditions atier an\n",
        "initial if statement. If the if condition is false, Python checks each elif in order. The first true elif\n",
        "block runs, and the rest are skipped. If none are true, the optional else block runs.\n",
        "\n",
        "13) What is the difference between for and while loops?\n",
        "\n",
        "Answer)- The for loop is used when you know how many times you want to repeat a block of\n",
        "code (e.g., iterating over a list or a range).\n",
        "The while loop is used when you want to repeat code as long as a condition is true, and you\n",
        "may not know in advance how many times it will run.\n",
        "\n",
        "14) Describe a scenario where a while loop is more suitable than a for loop.\n",
        "\n",
        "Answer) A while loop is more suitable when you don’t know in advance how many times a\n",
        "condition will be true."
      ],
      "metadata": {
        "id": "KFuGr7KZH5VN"
      }
    },
    {
      "cell_type": "code",
      "execution_count": 29,
      "metadata": {
        "colab": {
          "base_uri": "https://localhost:8080/"
        },
        "id": "uohUoJnmOZ2V",
        "outputId": "c1a087f5-1e6b-4d4e-9b83-eedbe0b7cabf"
      },
      "outputs": [
        {
          "output_type": "stream",
          "name": "stdout",
          "text": [
            "Hello world\n"
          ]
        }
      ],
      "source": [
        "# Write a Python program to print \"Hello, World!y\n",
        "print(\"Hello world\")"
      ]
    },
    {
      "cell_type": "code",
      "source": [
        "#Write a Python program that displays your name and age\n",
        "a=\"My name is Ravi kumar tanti\"\n",
        "b=\"my age is 22\"\n",
        "print(\"My name is Ravi kumar tanti \\nMy age is 22\")"
      ],
      "metadata": {
        "colab": {
          "base_uri": "https://localhost:8080/"
        },
        "id": "kqHrykDjOp8D",
        "outputId": "9a8a4dda-50dd-4e08-d4df-4fcd4b94bd0c"
      },
      "execution_count": 30,
      "outputs": [
        {
          "output_type": "stream",
          "name": "stdout",
          "text": [
            "My name is Ravi kumar tanti \n",
            "My age is 22\n"
          ]
        }
      ]
    },
    {
      "cell_type": "code",
      "source": [
        "#Write a program that checks if a given word is a Python keyword library.\n",
        "import keyword\n",
        "\n",
        "# Take user input\n",
        "word = input(\"Enter a word to check:- \")\n",
        "\n",
        "# Check if it's a keyword\n",
        "if keyword.iskeyword(word):\n",
        "    print(f\"'{word}' is a Python keyword:=-\")\n",
        "else:\n",
        "    print(f\"'{word}' is NOT a Python keyword:-\")\n"
      ],
      "metadata": {
        "colab": {
          "base_uri": "https://localhost:8080/"
        },
        "id": "JHrAbPODP0rr",
        "outputId": "e1a12b1c-67d8-4f09-d020-a87299db3a32"
      },
      "execution_count": 31,
      "outputs": [
        {
          "output_type": "stream",
          "name": "stdout",
          "text": [
            "Enter a word to check:- ravi kuma rttanti\n",
            "'ravi kuma rttanti' is NOT a Python keyword:-\n"
          ]
        }
      ]
    },
    {
      "cell_type": "code",
      "source": [
        "# Write code to print all the pre-defined keywords in Python using the keyword library\n",
        "import keyword\n",
        "\n",
        "keywords_list = keyword.kwlist\n",
        "\n",
        "print(\"List of Python keywords:\")\n",
        "for kw in keywords_list:\n",
        "    print(kw,end=\",\")"
      ],
      "metadata": {
        "colab": {
          "base_uri": "https://localhost:8080/"
        },
        "id": "4e4soT3QPn_E",
        "outputId": "18e63baf-3748-4c3d-cabd-9f2e5c13d418"
      },
      "execution_count": 32,
      "outputs": [
        {
          "output_type": "stream",
          "name": "stdout",
          "text": [
            "List of Python keywords:\n",
            "False,None,True,and,as,assert,async,await,break,class,continue,def,del,elif,else,except,finally,for,from,global,if,import,in,is,lambda,nonlocal,not,or,pass,raise,return,try,while,with,yield,"
          ]
        }
      ]
    },
    {
      "cell_type": "code",
      "source": [
        "#alternate way to list keywords.\n",
        "help(\"keywords\")"
      ],
      "metadata": {
        "colab": {
          "base_uri": "https://localhost:8080/"
        },
        "id": "9m46aUmEDaLk",
        "outputId": "8fce654f-684d-4a48-b6b2-e4c07d42df5a"
      },
      "execution_count": 33,
      "outputs": [
        {
          "output_type": "stream",
          "name": "stdout",
          "text": [
            "\n",
            "Here is a list of the Python keywords.  Enter any keyword to get more help.\n",
            "\n",
            "False               class               from                or\n",
            "None                continue            global              pass\n",
            "True                def                 if                  raise\n",
            "and                 del                 import              return\n",
            "as                  elif                in                  try\n",
            "assert              else                is                  while\n",
            "async               except              lambda              with\n",
            "await               finally             nonlocal            yield\n",
            "break               for                 not                 \n",
            "\n"
          ]
        }
      ]
    },
    {
      "cell_type": "code",
      "source": [
        "#).\"\"\"Create a list and tuple in Python, and demonstrate how attempting to change an element works differently for each\"\"\"\n",
        "\n",
        "my_list = [10, 20, 30 ,40 ,50, 60, 70]\n",
        "print(\"Original list:\", my_list)\n",
        "\n",
        "# Changing an element in the list\n",
        "my_list[3] = 66\n",
        "print(\"Modified list:\", my_list)\n",
        "\n",
        "# Creating a tuple\n",
        "my_tuple = (10, 20, 30 ,40, 50, 60, 70 ,80)\n",
        "print(\"Original tuple:\", my_tuple)\n",
        "\n",
        "# change an element in the tuple\n",
        "try:\n",
        "    my_tuple[1] = 200\n",
        "except TypeError as E:\n",
        "    print(\"Error when modifying tuple:\",E)\n"
      ],
      "metadata": {
        "colab": {
          "base_uri": "https://localhost:8080/"
        },
        "id": "QWoJTF_YQOgK",
        "outputId": "e0236ee8-be2a-403b-9298-6d5bdbcbfe4e"
      },
      "execution_count": 34,
      "outputs": [
        {
          "output_type": "stream",
          "name": "stdout",
          "text": [
            "Original list: [10, 20, 30, 40, 50, 60, 70]\n",
            "Modified list: [10, 20, 30, 66, 50, 60, 70]\n",
            "Original tuple: (10, 20, 30, 40, 50, 60, 70, 80)\n",
            "Error when modifying tuple: 'tuple' object does not support item assignment\n"
          ]
        }
      ]
    },
    {
      "cell_type": "code",
      "source": [
        "#Write a function to demonstrate the behavior of mutable and immutable arguments.\n",
        "\"\"\"\n",
        "->> MUTABILITY:- CHNAGAEABLE\n",
        "->> IMMUTABILITY:- NON CHANGEABLE\n",
        "\"\"\"\n",
        "a=[\"ravi\",\"kumar\",\"tanti\",1,2,3,4.6,2+3j]\n",
        "a[2]=\"gupta\"\n",
        "a\n",
        "\n"
      ],
      "metadata": {
        "id": "fWw-D_SvRKrb",
        "colab": {
          "base_uri": "https://localhost:8080/"
        },
        "outputId": "6f1f700d-84ed-4587-96ed-2f69b6150c50"
      },
      "execution_count": 35,
      "outputs": [
        {
          "output_type": "execute_result",
          "data": {
            "text/plain": [
              "['ravi', 'kumar', 'gupta', 1, 2, 3, 4.6, (2+3j)]"
            ]
          },
          "metadata": {},
          "execution_count": 35
        }
      ]
    },
    {
      "cell_type": "markdown",
      "source": [],
      "metadata": {
        "id": "TRRiXFqHHb2P"
      }
    },
    {
      "cell_type": "code",
      "source": [
        "#Write a function to demonstrate the behavior of mutable and immutable arguments.\n",
        "a = \"ravi kumar tanri\"\n",
        "a[3]=\"Q\"\n",
        "a              #as you can see strings are immutable."
      ],
      "metadata": {
        "colab": {
          "base_uri": "https://localhost:8080/",
          "height": 193
        },
        "id": "mgHDwfHuHc4v",
        "outputId": "d36a0ae5-c294-4cf5-c30a-704377f89ec5"
      },
      "execution_count": 36,
      "outputs": [
        {
          "output_type": "error",
          "ename": "TypeError",
          "evalue": "'str' object does not support item assignment",
          "traceback": [
            "\u001b[0;31m---------------------------------------------------------------------------\u001b[0m",
            "\u001b[0;31mTypeError\u001b[0m                                 Traceback (most recent call last)",
            "\u001b[0;32m/tmp/ipython-input-1177095350.py\u001b[0m in \u001b[0;36m<cell line: 0>\u001b[0;34m()\u001b[0m\n\u001b[1;32m      1\u001b[0m \u001b[0;31m#Write a function to demonstrate the behavior of mutable and immutable arguments.\u001b[0m\u001b[0;34m\u001b[0m\u001b[0;34m\u001b[0m\u001b[0m\n\u001b[1;32m      2\u001b[0m \u001b[0ma\u001b[0m \u001b[0;34m=\u001b[0m \u001b[0;34m\"ravi kumar tanri\"\u001b[0m\u001b[0;34m\u001b[0m\u001b[0;34m\u001b[0m\u001b[0m\n\u001b[0;32m----> 3\u001b[0;31m \u001b[0ma\u001b[0m\u001b[0;34m[\u001b[0m\u001b[0;36m3\u001b[0m\u001b[0;34m]\u001b[0m\u001b[0;34m=\u001b[0m\u001b[0;34m\"Q\"\u001b[0m\u001b[0;34m\u001b[0m\u001b[0;34m\u001b[0m\u001b[0m\n\u001b[0m\u001b[1;32m      4\u001b[0m \u001b[0ma\u001b[0m              \u001b[0;31m#as you can see strings are immutable.\u001b[0m\u001b[0;34m\u001b[0m\u001b[0;34m\u001b[0m\u001b[0m\n",
            "\u001b[0;31mTypeError\u001b[0m: 'str' object does not support item assignment"
          ]
        }
      ]
    },
    {
      "cell_type": "code",
      "source": [
        "#). Write a program that performs basic arithmetic operations on two user-input numbers.\n",
        "num1 = float(input(\"Enter the first number: \"))\n",
        "num2 = float(input(\"Enter the second number: \"))\n",
        "\n",
        "print(\"\\n--- Arithmetic Operations ---\")\n",
        "print(f\"Addition:       {num1} + {num2} = {num1 + num2}\")\n",
        "print(f\"Subtraction:    {num1} - {num2} = {num1 - num2}\")\n",
        "print(f\"Multiplication: {num1} * {num2} = {num1 * num2}\")\n",
        "\n",
        "if num2 != 0:\n",
        "    print(f\"Division:       {num1} / {num2} = {num1 / num2}\")\n",
        "    print(f\"Modulus:        {num1} % {num2} = {num1 % num2}\")\n",
        "else:\n",
        "    print(\"Division and Modulus: NOT DEFINED\")"
      ],
      "metadata": {
        "colab": {
          "base_uri": "https://localhost:8080/"
        },
        "id": "K_TA9TjtRTaI",
        "outputId": "bfc4cefc-0865-43e7-c0cf-9caeec238add"
      },
      "execution_count": 37,
      "outputs": [
        {
          "output_type": "stream",
          "name": "stdout",
          "text": [
            "Enter the first number: 10\n",
            "Enter the second number: 20\n",
            "\n",
            "--- Arithmetic Operations ---\n",
            "Addition:       10.0 + 20.0 = 30.0\n",
            "Subtraction:    10.0 - 20.0 = -10.0\n",
            "Multiplication: 10.0 * 20.0 = 200.0\n",
            "Division:       10.0 / 20.0 = 0.5\n",
            "Modulus:        10.0 % 20.0 = 10.0\n"
          ]
        }
      ]
    },
    {
      "cell_type": "code",
      "source": [
        "#). Write a program to demonstrate the use of logical operators.\n",
        "a = int(input(\"Enter first number: \"))\n",
        "b = int(input(\"Enter second number: \"))\n",
        "\n",
        "#AND\n",
        "print(\"\\nLogical AND (a > 0 and b > 0):\", a > 0 and b > 0)\n",
        "\n",
        "#OR\n",
        "print(\"Logical OR (a > 0 or b > 0):\", a > 0 or b > 0)\n",
        "\n",
        "#NOT\n",
        "print(\"Logical NOT (not (a > 0)):\", not (a > 0))\n"
      ],
      "metadata": {
        "colab": {
          "base_uri": "https://localhost:8080/"
        },
        "id": "wdgyhF04Row-",
        "outputId": "68ac9efb-d60b-404c-f1dd-90a696188e94"
      },
      "execution_count": 38,
      "outputs": [
        {
          "output_type": "stream",
          "name": "stdout",
          "text": [
            "Enter first number: 6743\n",
            "Enter second number: 64237\n",
            "\n",
            "Logical AND (a > 0 and b > 0): True\n",
            "Logical OR (a > 0 or b > 0): True\n",
            "Logical NOT (not (a > 0)): False\n"
          ]
        }
      ]
    },
    {
      "cell_type": "code",
      "source": [
        "# Write a Python program to convert user input from string to integer, float, and boolean types\n",
        "user_input = input(\"Enter a value: \")\n",
        "\n",
        "#to integer\n",
        "try:\n",
        "    int_value = int(user_input)\n",
        "    print(\"Integer:\", int_value)\n",
        "except ValueError:\n",
        "    print(\"Cannot convert to Integer\")\n",
        "\n",
        "#to float\n",
        "try:\n",
        "    float_value = float(user_input)\n",
        "    print(\"Float:\", float_value)\n",
        "except ValueError:\n",
        "    print(\"Cannot convert to Float\")\n",
        "\n",
        "#to boolean\n",
        "bool_value = bool(user_input)\n",
        "print(\"Boolean:\", bool_value)"
      ],
      "metadata": {
        "colab": {
          "base_uri": "https://localhost:8080/"
        },
        "id": "QygAnPMbSE_w",
        "outputId": "bd85b973-4331-4dea-f3e9-c201fb798ef5"
      },
      "execution_count": 39,
      "outputs": [
        {
          "output_type": "stream",
          "name": "stdout",
          "text": [
            "Enter a value: ravi\n",
            "Cannot convert to Integer\n",
            "Cannot convert to Float\n",
            "Boolean: True\n"
          ]
        }
      ]
    },
    {
      "cell_type": "code",
      "source": [
        "# Write code to demonstrate type casting with list elements\n",
        "\n",
        "\n",
        "string_list = [\"10\", \"20\", \"30\", \"0\", \"\"]\n",
        "\n",
        "#to integers\n",
        "int_list = [int(x) for x in string_list if x.isdigit()]\n",
        "print(\"Integer List:\", int_list)\n",
        "\n",
        "#to floats\n",
        "try:\n",
        "    float_list = [float(x) for x in string_list]\n",
        "    print(\"Float List:\", float_list)\n",
        "except ValueError:\n",
        "    print(\"Some elements could not be converted to float.\")\n",
        "\n",
        "#to booleans\n",
        "bool_list = [bool(x) for x in string_list]\n",
        "print(\"Boolean List:\", bool_list)"
      ],
      "metadata": {
        "id": "xV18z_orSjlh"
      },
      "execution_count": null,
      "outputs": []
    },
    {
      "cell_type": "code",
      "source": [
        "#Write a program that checks if a number is positive, negative, or zero.\n",
        "\n",
        "num = float(input(\"Enter a number: \"))\n",
        "\n",
        "if num > 0:\n",
        "    print(\"The number is Positive.\")\n",
        "elif num < 0:\n",
        "    print(\"The number is Negative.\")\n",
        "else:\n",
        "    print(\"The number is Zero.\")\n"
      ],
      "metadata": {
        "id": "5oE72zihTZIX"
      },
      "execution_count": null,
      "outputs": []
    },
    {
      "cell_type": "code",
      "source": [
        "#Write a for loop to print numbers from 1 to 10.\n",
        "for i in range(1, 11):\n",
        "    print(i)"
      ],
      "metadata": {
        "id": "7JfixirrToqn"
      },
      "execution_count": null,
      "outputs": []
    },
    {
      "cell_type": "code",
      "source": [
        "# Write a Python program to find the sum of all even numbers between 1 and 50.\n",
        "total = 0\n",
        "\n",
        "for i in range(1, 51):\n",
        "    if i % 2 == 0:\n",
        "        total += i\n",
        "print(\"Sum of even numbers from 1 to 50 is:\", total)\n"
      ],
      "metadata": {
        "id": "07UyWKJzTzsW"
      },
      "execution_count": null,
      "outputs": []
    },
    {
      "cell_type": "code",
      "source": [
        "#Write a program to reverse a string using a while loop.\n",
        "\n",
        "text = input(\"Enter a string: \")\n",
        "reversed_text = \"\"\n",
        "index = len(text) - 1\n",
        "\n",
        "while index >= 0:\n",
        "    reversed_text += text[index]\n",
        "    index -= 1\n",
        "\n",
        "print(\"Reversed string:\", reversed_text)\n"
      ],
      "metadata": {
        "id": "x4fHjxKMUIqQ"
      },
      "execution_count": null,
      "outputs": []
    },
    {
      "cell_type": "code",
      "source": [
        "# Write a Python program to calculate the factorial of a number provided by the user using a while loop.\n",
        "\n",
        "num = int(input(\"Enter your number: \"))\n",
        "factorial = 1\n",
        "i = 1\n",
        "\n",
        "while i <= num:\n",
        "    factorial *= i\n",
        "    i += 1\n",
        "\n",
        "print(\"Factorial of\", num, \"is:\", factorial)\n"
      ],
      "metadata": {
        "id": "6s1yhaqOUjF3"
      },
      "execution_count": null,
      "outputs": []
    }
  ]
}